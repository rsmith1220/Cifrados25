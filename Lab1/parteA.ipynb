{
 "cells": [
  {
   "cell_type": "markdown",
   "metadata": {},
   "source": [
    "Implementar las funciónes de encriptado y decriptado para un texto plano en castellano\n",
    "(27 letras) para los siguntes métodos (30 puntos)\n",
    "\n",
    "Cifrado Caesar"
   ]
  },
  {
   "cell_type": "code",
   "execution_count": 1,
   "metadata": {},
   "outputs": [
    {
     "name": "stdout",
     "output_type": "stream",
     "text": [
      "Text  : ATTACKATONCE\n",
      "Shift : 4\n",
      "Cipher: EXXEGOEXSRGI\n"
     ]
    }
   ],
   "source": [
    "def caesar(text,s):\n",
    "    result = \"\"\n",
    "\n",
    "    for i in range(len(text)):\n",
    "        char = text[i]\n",
    "\n",
    "        # mayusculas\n",
    "        if (char.isupper()):\n",
    "            result += chr((ord(char) + s-65) % 26 + 65)\n",
    "\n",
    "        # minusculas\n",
    "        else:\n",
    "            result += chr((ord(char) + s - 97) % 26 + 97)\n",
    "\n",
    "    return result\n",
    "\n",
    "text = \"clase\"\n",
    "\n",
    "#shift\n",
    "s = 4\n",
    "print (\"Texto: \" + text)\n",
    "print (\"Cifrado: \" + caesar(text,s))"
   ]
  },
  {
   "cell_type": "markdown",
   "metadata": {},
   "source": [
    "Cifrado afín"
   ]
  },
  {
   "cell_type": "code",
   "execution_count": null,
   "metadata": {},
   "outputs": [],
   "source": [
    "\n",
    "def egcd(a, b):\n",
    "\tx,y, u,v = 0,1, 1,0\n",
    "\twhile a != 0:\n",
    "\t\tq, r = b//a, b%a\n",
    "\t\tm, n = x-u*q, y-v*q\n",
    "\t\tb,a, x,y, u,v = a,r, u,v, m,n\n",
    "\tgcd = b\n",
    "\treturn gcd, x, y\n",
    "\n",
    "def modinv(a, m):\n",
    "\tgcd, x, y = egcd(a, m)\n",
    "\tif gcd != 1:\n",
    "\t\treturn None \n",
    "\telse:\n",
    "\t\treturn x % m\n",
    "\n",
    "\n",
    "def affine_encrypt(text, key):\n",
    "\t'''\n",
    "\tC = (a*P + b) % 26\n",
    "\t'''\n",
    "\treturn ''.join([ chr((( key[0]*(ord(t) - ord('A')) + key[1] ) % 26) \n",
    "\t\t\t\t+ ord('A')) for t in text.upper().replace(' ', '') ])\n",
    "\n",
    "\n",
    "text = 'clase'\n",
    "key = [17, 20]\n",
    "\n",
    "\n",
    "affine_encrypted_text = affine_encrypt(text, key)\n",
    "\n",
    "print('Encriptado: {}'.format( affine_encrypted_text ))\n"
   ]
  },
  {
   "cell_type": "markdown",
   "metadata": {},
   "source": [
    "Cifrado Vigenére"
   ]
  },
  {
   "cell_type": "code",
   "execution_count": null,
   "metadata": {},
   "outputs": [],
   "source": [
    "def generate_key(msg, key):\n",
    "    key = list(key)\n",
    "    if len(msg) == len(key):\n",
    "        return key\n",
    "    else:\n",
    "        for i in range(len(msg) - len(key)):\n",
    "            key.append(key[i % len(key)])\n",
    "    return \"\".join(key)\n",
    "\n",
    "def encrypt_vigenere(msg, key):\n",
    "    encrypted_text = []\n",
    "    key = generate_key(msg, key)\n",
    "    for i in range(len(msg)):\n",
    "        char = msg[i]\n",
    "        if char.isupper():\n",
    "            encrypted_char = chr((ord(char) + ord(key[i]) - 2 * ord('A')) % 26 + ord('A'))\n",
    "        elif char.islower():\n",
    "            encrypted_char = chr((ord(char) + ord(key[i]) - 2 * ord('a')) % 26 + ord('a'))\n",
    "        else:\n",
    "            encrypted_char = char\n",
    "        encrypted_text.append(encrypted_char)\n",
    "    return \"\".join(encrypted_text)\n",
    "\n",
    "\n",
    "text_to_encrypt = \"clase\"\n",
    "key = \"KEY\"\n",
    "\n",
    "encrypted_text = encrypt_vigenere(text_to_encrypt, key)\n",
    "print(f\"Encriptado: {encrypted_text}\")\n"
   ]
  },
  {
   "cell_type": "markdown",
   "metadata": {},
   "source": [
    "Implementar el uso de funciones para generar un análisis de frecuencia de un texto\n",
    "plano. (30 puntos)"
   ]
  },
  {
   "cell_type": "code",
   "execution_count": 2,
   "metadata": {},
   "outputs": [
    {
     "name": "stdout",
     "output_type": "stream",
     "text": [
      "\n",
      "Distribución de frecuencia de caracteres:\n",
      "a: 0.1475\n",
      "b: 0.0000\n",
      "c: 0.0656\n",
      "d: 0.0328\n",
      "e: 0.1967\n",
      "f: 0.0164\n",
      "g: 0.0000\n",
      "h: 0.0000\n",
      "i: 0.0328\n",
      "j: 0.0164\n",
      "k: 0.0000\n",
      "l: 0.0656\n",
      "m: 0.0164\n",
      "n: 0.0492\n",
      "o: 0.0492\n",
      "p: 0.0328\n",
      "q: 0.0000\n",
      "r: 0.0820\n",
      "s: 0.0656\n",
      "t: 0.0656\n",
      "u: 0.0328\n",
      "v: 0.0000\n",
      "w: 0.0000\n",
      "x: 0.0164\n",
      "y: 0.0000\n",
      "z: 0.0164\n"
     ]
    },
    {
     "data": {
      "image/png": "[encoded data removed]",
      "text/plain": [
       "<Figure size 1000x500 with 1 Axes>"
      ]
     },
     "metadata": {},
     "output_type": "display_data"
    }
   ],
   "source": [
    "from collections import Counter\n",
    "import string\n",
    "import matplotlib.pyplot as plt\n",
    "\n",
    "def calcular_frecuencia(texto):\n",
    "    \"\"\"\n",
    "    Calcula la distribución de frecuencia de los caracteres en un texto dado.\n",
    "    \"\"\"\n",
    "    # Convertir a minúsculas y filtrar solo letras\n",
    "    texto = texto.lower()\n",
    "    letras = [c for c in texto if c in string.ascii_lowercase]\n",
    "    \n",
    "    # Contar la frecuencia de cada letra\n",
    "    total_caracteres = len(letras)\n",
    "    conteo = Counter(letras)\n",
    "    \n",
    "    # Calcular probabilidades\n",
    "    frecuencia = {letra: conteo[letra] / total_caracteres if total_caracteres > 0 else 0 for letra in string.ascii_lowercase}\n",
    "    \n",
    "    return frecuencia\n",
    "\n",
    "def mostrar_frecuencia(frecuencia):\n",
    "    \"\"\"\n",
    "    Muestra la distribución de frecuencia de los caracteres en orden alfabético.\n",
    "    \"\"\"\n",
    "    print(\"\\nDistribución de frecuencia de caracteres:\")\n",
    "    for letra, probabilidad in sorted(frecuencia.items()):\n",
    "        print(f\"{letra}: {probabilidad:.4f}\")\n",
    "\n",
    "def graficar_frecuencia(frecuencia):\n",
    "    \"\"\"\n",
    "    Genera una gráfica de barras para visualizar la distribución de frecuencia de caracteres.\n",
    "    \"\"\"\n",
    "    letras = list(frecuencia.keys())\n",
    "    probabilidades = list(frecuencia.values())\n",
    "    \n",
    "    plt.figure(figsize=(10, 5))\n",
    "    plt.bar(letras, probabilidades, color='skyblue')\n",
    "    plt.xlabel('Letras')\n",
    "    plt.ylabel('Frecuencia')\n",
    "    plt.title('Distribución de Frecuencia de Caracteres')\n",
    "    plt.show()\n",
    "\n",
    "# Ejemplo de uso\n",
    "if __name__ == \"__main__\":\n",
    "    texto = \"Este es un ejemplo de texto para analizar la frecuencia de los caracteres.\"\n",
    "    frecuencia = calcular_frecuencia(texto)\n",
    "    mostrar_frecuencia(frecuencia)\n",
    "    graficar_frecuencia(frecuencia)\n"
   ]
  },
  {
   "cell_type": "markdown",
   "metadata": {},
   "source": [
    "Implementar una función para comparar la distribución encontrada contra la\n",
    "distribución teórica de las letras del castellanos. (40 puntos)"
   ]
  },
  {
   "cell_type": "code",
   "execution_count": 7,
   "metadata": {},
   "outputs": [
    {
     "name": "stdout",
     "output_type": "stream",
     "text": [
      "\n",
      "Comparación de frecuencias:\n",
      "a: Observada = 14.75% | Teórica = 12.53%\n",
      "b: Observada = 0.00% | Teórica = 1.42%\n",
      "c: Observada = 6.56% | Teórica = 4.68%\n",
      "d: Observada = 3.28% | Teórica = 5.86%\n",
      "e: Observada = 19.67% | Teórica = 13.68%\n",
      "f: Observada = 1.64% | Teórica = 0.69%\n",
      "g: Observada = 0.00% | Teórica = 1.01%\n",
      "h: Observada = 0.00% | Teórica = 0.70%\n",
      "i: Observada = 3.28% | Teórica = 6.25%\n",
      "j: Observada = 1.64% | Teórica = 0.44%\n",
      "k: Observada = 0.00% | Teórica = 0.02%\n",
      "l: Observada = 6.56% | Teórica = 4.97%\n",
      "m: Observada = 1.64% | Teórica = 3.15%\n",
      "n: Observada = 4.92% | Teórica = 6.71%\n",
      "o: Observada = 4.92% | Teórica = 8.68%\n",
      "p: Observada = 3.28% | Teórica = 2.51%\n",
      "q: Observada = 0.00% | Teórica = 0.88%\n",
      "r: Observada = 8.20% | Teórica = 6.87%\n",
      "s: Observada = 6.56% | Teórica = 7.98%\n",
      "t: Observada = 6.56% | Teórica = 4.63%\n",
      "u: Observada = 3.28% | Teórica = 3.93%\n",
      "v: Observada = 0.00% | Teórica = 0.90%\n",
      "w: Observada = 0.00% | Teórica = 0.02%\n",
      "x: Observada = 1.64% | Teórica = 0.22%\n",
      "y: Observada = 0.00% | Teórica = 0.90%\n",
      "z: Observada = 1.64% | Teórica = 0.52%\n",
      "ñ: Observada = 0.00% | Teórica = 0.31%\n"
     ]
    },
    {
     "data": {
      "image/png": "[encoded data removed]",
      "text/plain": [
       "<Figure size 1000x500 with 1 Axes>"
      ]
     },
     "metadata": {},
     "output_type": "display_data"
    }
   ],
   "source": [
    "distribucion_teorica = {\n",
    "    'a': 12.53, 'b': 1.42, 'c': 4.68, 'd': 5.86, 'e': 13.68, 'f': 0.69, 'g': 1.01, 'h': 0.70, 'i': 6.25,\n",
    "    'j': 0.44, 'k': 0.02, 'l': 4.97, 'm': 3.15, 'n': 6.71, 'ñ': 0.31, 'o': 8.68, 'p': 2.51, 'q': 0.88,\n",
    "    'r': 6.87, 's': 7.98, 't': 4.63, 'u': 3.93, 'v': 0.90, 'w': 0.02, 'x': 0.22, 'y': 0.90, 'z': 0.52\n",
    "}\n",
    "\n",
    "def calcular_frecuencia(texto):\n",
    "    \"\"\"\n",
    "    Calcula la distribución de frecuencia de los caracteres en un texto dado.\n",
    "    \"\"\"\n",
    "    # Convertir a minúsculas y filtrar solo letras\n",
    "    texto = texto.lower()\n",
    "    letras = [c for c in texto if c in string.ascii_lowercase]\n",
    "    \n",
    "    # Contar la frecuencia de cada letra\n",
    "    total_caracteres = len(letras)\n",
    "    conteo = Counter(letras)\n",
    "    \n",
    "    # Calcular probabilidades\n",
    "    frecuencia = {letra: (conteo[letra] / total_caracteres * 100) if total_caracteres > 0 else 0 for letra in string.ascii_lowercase}\n",
    "    \n",
    "    return frecuencia\n",
    "\n",
    "def mostrar_frecuencia(frecuencia):\n",
    "    \"\"\"\n",
    "    Muestra la distribución de frecuencia de los caracteres en orden alfabético.\n",
    "    \"\"\"\n",
    "    print(\"\\nDistribución de frecuencia de caracteres:\")\n",
    "    for letra, probabilidad in sorted(frecuencia.items()):\n",
    "        print(f\"{letra}: {probabilidad:.4f}%\")\n",
    "\n",
    "def graficar_frecuencia(frecuencia):\n",
    "    \"\"\"\n",
    "    Genera una gráfica de barras para visualizar la distribución de frecuencia de caracteres.\n",
    "    \"\"\"\n",
    "    letras = list(frecuencia.keys())\n",
    "    probabilidades = list(frecuencia.values())\n",
    "    \n",
    "    plt.figure(figsize=(10, 5))\n",
    "    plt.bar(letras, probabilidades, color='skyblue', label='Frecuencia Observada')\n",
    "    plt.bar(distribucion_teorica.keys(), distribucion_teorica.values(), alpha=0.5, color='red', label='Frecuencia Teórica')\n",
    "    plt.xlabel('Letras')\n",
    "    plt.ylabel('Frecuencia (%)')\n",
    "    plt.title('Comparación de Distribución de Frecuencia de Caracteres')\n",
    "    plt.legend()\n",
    "    plt.show()\n",
    "\n",
    "def comparar_frecuencia(frecuencia):\n",
    "    \"\"\"\n",
    "    Compara la distribución encontrada contra la distribución teórica del castellano.\n",
    "    \"\"\"\n",
    "    print(\"\\nComparación de frecuencias:\")\n",
    "    for letra in sorted(distribucion_teorica.keys()):\n",
    "        observada = frecuencia.get(letra, 0)\n",
    "        teorica = distribucion_teorica[letra]\n",
    "        print(f\"{letra}: Observada = {observada:.2f}% | Teórica = {teorica:.2f}%\")\n",
    "\n",
    "# Ejemplo de uso\n",
    "if __name__ == \"__main__\":\n",
    "    texto = \"Este es un ejemplo de texto para analizar la frecuencia de los caracteres.\"\n",
    "    frecuencia = calcular_frecuencia(texto)\n",
    "    # mostrar_frecuencia(frecuencia)\n",
    "    comparar_frecuencia(frecuencia)\n",
    "    graficar_frecuencia(frecuencia)\n"
   ]
  },
  {
   "cell_type": "markdown",
   "metadata": {},
   "source": [
    "Referencias\n",
    "\n",
    "https://www.geeksforgeeks.org/caesar-cipher-in-cryptography/\n",
    "\n",
    "https://www.geeksforgeeks.org/vigenere-cipher/\n",
    "\n",
    "https://www.geeksforgeeks.org/implementation-affine-cipher/\n",
    "\n",
    "https://chatgpt.com/share/679c1374-a34c-8005-8443-6f2d02b404fc"
   ]
  }
 ],
 "metadata": {
  "kernelspec": {
   "display_name": "Python 3",
   "language": "python",
   "name": "python3"
  },
  "language_info": {
   "codemirror_mode": {
    "name": "ipython",
    "version": 3
   },
   "file_extension": ".py",
   "mimetype": "text/x-python",
   "name": "python",
   "nbconvert_exporter": "python",
   "pygments_lexer": "ipython3",
   "version": "3.11.9"
  }
 },
 "nbformat": 4,
 "nbformat_minor": 2
}
