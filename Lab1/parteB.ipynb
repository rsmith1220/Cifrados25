{
 "cells": [
  {
   "cell_type": "markdown",
   "metadata": {},
   "source": [
    "análisis de fuerza bruta por frecuencias. "
   ]
  },
  {
   "cell_type": "code",
   "execution_count": 1,
   "metadata": {},
   "outputs": [],
   "source": [
    "import string\n",
    "from collections import Counter\n",
    "from itertools import product\n",
    "import re\n",
    "\n",
    "# Frecuencia de letras en español actualizada\n",
    "FRECUENCIAS_ES = {\n",
    "    'A': 11.525, 'B': 2.215, 'C': 4.019, 'D': 5.010, 'E': 12.181, 'F': 0.692,\n",
    "    'G': 1.768, 'H': 0.703, 'I': 6.247, 'J': 0.493, 'K': 0.011, 'L': 4.967,\n",
    "    'M': 3.157, 'N': 6.712, 'Ñ': 0.311, 'O': 8.683, 'P': 2.510, 'Q': 0.877,\n",
    "    'R': 6.871, 'S': 7.977, 'T': 4.632, 'U': 2.927, 'V': 1.138, 'W': 0.017,\n",
    "    'X': 0.215, 'Y': 1.008, 'Z': 0.467\n",
    "}\n",
    "\n",
    "ALFABETO = \"ABCDEFGHIJKLMNÑOPQRSTUVWXYZ\"\n",
    "\n",
    "def clean_text(text):\n",
    "    text = text.upper()\n",
    "    text = re.sub(r'[^A-ZÑ]', '', text)  # Mantener solo letras\n",
    "    return text\n",
    "\n",
    "# Función de puntuación basada en frecuencias\n",
    "def score_text(text):\n",
    "    text = clean_text(text)\n",
    "    contador = Counter(text)\n",
    "    total_letras = sum(contador[letra] for letra in ALFABETO)\n",
    "    score = sum((contador[letra] / total_letras) * FRECUENCIAS_ES.get(letra, 0) for letra in ALFABETO)\n",
    "    return score\n",
    "\n"
   ]
  },
  {
   "cell_type": "markdown",
   "metadata": {},
   "source": [
    "Cifrado Caesar"
   ]
  },
  {
   "cell_type": "code",
   "execution_count": 2,
   "metadata": {},
   "outputs": [],
   "source": [
    "# Descifrado César\n",
    "def decrypt_caesar(text, shift):\n",
    "    decrypted = \"\".join(ALFABETO[(ALFABETO.index(c) - shift) % len(ALFABETO)] if c in ALFABETO else c for c in text)\n",
    "    return decrypted\n",
    "\n"
   ]
  },
  {
   "cell_type": "markdown",
   "metadata": {},
   "source": [
    "Cifrado afín"
   ]
  },
  {
   "cell_type": "code",
   "execution_count": 3,
   "metadata": {},
   "outputs": [],
   "source": [
    "# Descifrado Afín\n",
    "def mod_inverse(a, m=len(ALFABETO)):\n",
    "    for x in range(1, m):\n",
    "        if (a * x) % m == 1:\n",
    "            return x\n",
    "    return None\n",
    "\n",
    "def decrypt_affine(text, a, b):\n",
    "    a_inv = mod_inverse(a, len(ALFABETO))\n",
    "    if a_inv is None:\n",
    "        return None\n",
    "    decrypted = \"\".join(ALFABETO[(a_inv * (ALFABETO.index(c) - b)) % len(ALFABETO)] if c in ALFABETO else c for c in text)\n",
    "    return decrypted\n",
    "\n"
   ]
  },
  {
   "cell_type": "markdown",
   "metadata": {},
   "source": [
    "Cifrado Vigenére"
   ]
  },
  {
   "cell_type": "code",
   "execution_count": 4,
   "metadata": {},
   "outputs": [],
   "source": [
    "# Descifrado Vigenère\n",
    "def decrypt_vigenere(text, key):\n",
    "    key = clean_text(key)\n",
    "    decrypted = \"\".join(ALFABETO[(ALFABETO.index(c) - ALFABETO.index(key[i % len(key)])) % len(ALFABETO)] if c in ALFABETO else c for i, c in enumerate(text))\n",
    "    return decrypted\n"
   ]
  },
  {
   "cell_type": "code",
   "execution_count": 8,
   "metadata": {},
   "outputs": [
    {
     "name": "stdout",
     "output_type": "stream",
     "text": [
      "('NOLDLCEIE', 16, 7.218555555555555)\n",
      "('CEASARTXT', 0, 7.06411111111111)\n",
      "('CEASARTXT', 27, 7.06411111111111)\n",
      "('LPSXODEIE', (1, 16), 6.663444444444444)\n",
      "('OSPTCÑERE', (8, 15), 6.59611111111111)\n",
      "('ZDAENYOCO', (8, 8), 6.476444444444444)\n",
      "('GIQEXECEEXE', 'PA', 6.749636363636363)\n",
      "('GICONACEPIT', 'PAE', 6.231181818181818)\n",
      "('GIRONPCEFIT', 'PAO', 5.505636363636364)\n"
     ]
    }
   ],
   "source": [
    "# Función de fuerza bruta\n",
    "def brute_force_decrypt(text, cipher_type, k=5):\n",
    "    text = clean_text(text)\n",
    "    results = []\n",
    "    \n",
    "    if cipher_type == \"caesar\":\n",
    "        for shift in range(31):\n",
    "            decrypted = decrypt_caesar(text, shift)\n",
    "            score = score_text(decrypted)\n",
    "            results.append((decrypted, shift, score))\n",
    "    \n",
    "    elif cipher_type == \"affine\":\n",
    "        for a, b in product(range(1, 17), range(1, 17)):\n",
    "            decrypted = decrypt_affine(text, a, b)\n",
    "            if decrypted:\n",
    "                score = score_text(decrypted)\n",
    "                results.append((decrypted, (a, b), score))\n",
    "    \n",
    "    elif cipher_type == \"vigenere\":\n",
    "        common_keys = [\"PA\", \"PAE\", \"PAO\", \"PAEL\", \"PAES\", \"PAQUE\"]  # Claves probables\n",
    "        for key in common_keys:\n",
    "            decrypted = decrypt_vigenere(text, key)\n",
    "            score = score_text(decrypted)\n",
    "            results.append((decrypted, key, score))\n",
    "    \n",
    "    results.sort(key=lambda x: x[2], reverse=True)\n",
    "    return results[:k]\n",
    "\n",
    "# Ejemplo de uso\n",
    "file_path = \"ceasar.txt\"\n",
    "resultados = brute_force_decrypt(file_path, \"caesar\", k=3)\n",
    "for res in resultados:\n",
    "    print(res)\n",
    "\n",
    "# Ejemplo de uso\n",
    "file_path = \"afines.txt\"\n",
    "resultados = brute_force_decrypt(file_path, \"affine\", k=3)\n",
    "for res in resultados:\n",
    "    print(res)\n",
    "\n",
    "# Ejemplo de uso\n",
    "file_path = \"vigenere.txt\"\n",
    "resultados = brute_force_decrypt(file_path, \"vigenere\", k=3)\n",
    "for res in resultados:\n",
    "    print(res)\n"
   ]
  }
 ],
 "metadata": {
  "kernelspec": {
   "display_name": "Python 3",
   "language": "python",
   "name": "python3"
  },
  "language_info": {
   "codemirror_mode": {
    "name": "ipython",
    "version": 3
   },
   "file_extension": ".py",
   "mimetype": "text/x-python",
   "name": "python",
   "nbconvert_exporter": "python",
   "pygments_lexer": "ipython3",
   "version": "3.11.9"
  }
 },
 "nbformat": 4,
 "nbformat_minor": 2
}
