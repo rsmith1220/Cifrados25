{
 "cells": [
  {
   "cell_type": "markdown",
   "metadata": {},
   "source": [
    "Implementar una función que haga la operación XOR, bit a bit, con dos cadenas de texto."
   ]
  },
  {
   "cell_type": "code",
   "execution_count": 4,
   "metadata": {},
   "outputs": [
    {
     "name": "stdout",
     "output_type": "stream",
     "text": [
      "Resultado XOR (hex): 051a02050e\n"
     ]
    }
   ],
   "source": [
    "def xor_strings(str1, str2):\n",
    "    \"\"\"\n",
    "    Realiza la operación XOR bit a bit entre dos cadenas de texto y devuelve el resultado en formato hexadecimal.\n",
    "    \"\"\"\n",
    "    # Convertir las cadenas a bytes\n",
    "    bytes1 = str1.encode()\n",
    "    bytes2 = str2.encode()\n",
    "    \n",
    "    # Asegurar que ambas cadenas tengan la misma longitud\n",
    "    if len(bytes1) != len(bytes2):\n",
    "        raise ValueError(\"Las cadenas deben tener la misma longitud\")\n",
    "    \n",
    "    # Aplicar XOR bit a bit y convertir el resultado a una representación hexadecimal\n",
    "    xor_result = bytes(a ^ b for a, b in zip(bytes1, bytes2))\n",
    "    return xor_result.hex()  # Representación en hexadecimal para evitar caracteres no imprimibles\n",
    "\n",
    "# Ejemplo de uso\n",
    "cadena1 = \"holaa\"\n",
    "cadena2 = \"mundo\"\n",
    "resultado = xor_strings(cadena1, cadena2)\n",
    "print(\"Resultado XOR (hex):\", resultado)"
   ]
  },
  {
   "cell_type": "code",
   "execution_count": 8,
   "metadata": {},
   "outputs": [
    {
     "name": "stdout",
     "output_type": "stream",
     "text": [
      "Imagen descifrada guardada en imagen_original.png\n"
     ]
    }
   ],
   "source": [
    "import base64\n",
    "\n",
    "def xor_bytes(data, key):\n",
    "    \"\"\"\n",
    "    Aplica XOR entre los datos y la clave proporcionada.\n",
    "    \"\"\"\n",
    "    key_bytes = key.encode()\n",
    "    return bytes(data[i] ^ key_bytes[i % len(key_bytes)] for i in range(len(data)))\n",
    "\n",
    "def decrypt_image(encoded_image_path, key, output_path):\n",
    "    \"\"\"\n",
    "    Descifra una imagen codificada en base64 usando XOR con una clave.\n",
    "    \"\"\"\n",
    "    # Leer la imagen en base64\n",
    "    with open(encoded_image_path, \"rb\") as file:\n",
    "        encoded_data = file.read()\n",
    "    \n",
    "    # Decodificar base64\n",
    "    image_data = base64.b64decode(encoded_data)\n",
    "    \n",
    "    # Aplicar XOR\n",
    "    decrypted_data = xor_bytes(image_data, key)\n",
    "    \n",
    "    # Guardar la imagen descifrada\n",
    "    with open(output_path, \"wb\") as file:\n",
    "        file.write(decrypted_data)\n",
    "    \n",
    "    print(f\"Imagen descifrada guardada en {output_path}\")\n",
    "\n",
    "# Ejemplo de uso\n",
    "encrypted_image_path = \"imagen_xor.png\"\n",
    "key = \"cifrados_2025\"\n",
    "output_image_path = \"imagen_original.png\"\n",
    "decrypt_image(encrypted_image_path, key, output_image_path)\n"
   ]
  },
  {
   "cell_type": "markdown",
   "metadata": {},
   "source": [
    "Al aplicar XOR con una llave de texto la imagen se corrompe porque la llave esta mal o no es del largo necesario ademas que puede haber pasado algo cuando se codifico o decodifico."
   ]
  },
  {
   "cell_type": "code",
   "execution_count": 12,
   "metadata": {},
   "outputs": [
    {
     "name": "stdout",
     "output_type": "stream",
     "text": [
      "Imagen XOR guardada en: merged.jpeg\n"
     ]
    }
   ],
   "source": [
    "import cv2\n",
    "\n",
    "# Cargar las imágenes\n",
    "foo = cv2.imread(\"foto1.jpeg\")\n",
    "bar = cv2.imread(\"foto2.jpeg\")\n",
    "\n",
    "# Verificar que ambas imágenes se cargaron correctamente\n",
    "if foo is None or bar is None:\n",
    "    print(\"Error: No se pudieron cargar las imágenes.\")\n",
    "    exit()\n",
    "\n",
    "# Redimensionar las imágenes si tienen tamaños distintos\n",
    "if foo.shape != bar.shape:\n",
    "    bar = cv2.resize(bar, (foo.shape[1], foo.shape[0]))\n",
    "\n",
    "# Aplicar XOR bit a bit\n",
    "key = cv2.bitwise_xor(foo, bar)\n",
    "\n",
    "# Guardar la imagen resultante\n",
    "output_path = \"merged.jpeg\"\n",
    "cv2.imwrite(output_path, key)\n",
    "print(f\"Imagen XOR guardada en: {output_path}\")\n",
    "\n",
    "# Mostrar la imagen resultante\n",
    "cv2.imshow(\"XOR Result\", key)\n",
    "cv2.waitKey(0)\n",
    "cv2.destroyAllWindows()\n"
   ]
  },
  {
   "cell_type": "markdown",
   "metadata": {},
   "source": [
    "referencias\n",
    "\n",
    "https://gist.github.com/lotusirous/d056b41bf3ad7f4274acbd99cce9ff48\n",
    "\n",
    "https://chatgpt.com/share/67abb263-3e10-8005-aec9-96da17b907e5"
   ]
  }
 ],
 "metadata": {
  "kernelspec": {
   "display_name": "Python 3",
   "language": "python",
   "name": "python3"
  },
  "language_info": {
   "codemirror_mode": {
    "name": "ipython",
    "version": 3
   },
   "file_extension": ".py",
   "mimetype": "text/x-python",
   "name": "python",
   "nbconvert_exporter": "python",
   "pygments_lexer": "ipython3",
   "version": "3.11.9"
  }
 },
 "nbformat": 4,
 "nbformat_minor": 2
}
