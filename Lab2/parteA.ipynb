{
 "cells": [
  {
   "cell_type": "markdown",
   "metadata": {},
   "source": [
    "Caracteres a bits"
   ]
  },
  {
   "cell_type": "code",
   "execution_count": 7,
   "metadata": {},
   "outputs": [
    {
     "name": "stdout",
     "output_type": "stream",
     "text": [
      "01001000011011110110110001100001\n",
      "0100010101101010011001010110110101110000011011000110111100100000011100110110100101101101011100000110110001100101\n"
     ]
    }
   ],
   "source": [
    "def string_to_bits(s):\n",
    "    return ''.join(format(ord(c), '08b') for c in s)\n",
    "\n",
    "cadena = \"Hola\"\n",
    "print(string_to_bits(cadena))\n",
    "\n",
    "cadena = \"Ejemplo simple\"\n",
    "print(string_to_bits(cadena))"
   ]
  },
  {
   "cell_type": "markdown",
   "metadata": {},
   "source": [
    "Bytes a caracteres"
   ]
  },
  {
   "cell_type": "code",
   "execution_count": 14,
   "metadata": {},
   "outputs": [
    {
     "name": "stdout",
     "output_type": "stream",
     "text": [
      "Texto: Hola\n"
     ]
    }
   ],
   "source": [
    "def binary_to_text(binary_string):\n",
    "    \"\"\"\n",
    "    Convierte una cadena de binarios (en grupos de 8 bits) a texto ASCII.\n",
    "    \n",
    "    Args:\n",
    "        binary_string (str): Cadena de binarios (ejemplo: \"0100100001101111\").\n",
    "    \n",
    "    Returns:\n",
    "        str: Texto correspondiente en ASCII.\n",
    "    \"\"\"\n",
    "    # Dividir la cadena en grupos de 8 bits\n",
    "    byte_groups = [binary_string[i:i+8] for i in range(0, len(binary_string), 8)]\n",
    "\n",
    "    # Convertir cada grupo de 8 bits en un carácter ASCII\n",
    "    text = ''.join(chr(int(byte, 2)) for byte in byte_groups if len(byte) == 8)\n",
    "\n",
    "    return text\n",
    "\n",
    "# Ejemplo de uso\n",
    "binary_input = \"01001000011011110110110001100001\"  # Representa \"Hola\"\n",
    "text_result = binary_to_text(binary_input)\n",
    "print(\"Texto:\", text_result)  # Salida esperada: \"Hola\"\n"
   ]
  },
  {
   "cell_type": "markdown",
   "metadata": {},
   "source": [
    "Caracteres a base 64"
   ]
  },
  {
   "cell_type": "code",
   "execution_count": 15,
   "metadata": {},
   "outputs": [
    {
     "name": "stdout",
     "output_type": "stream",
     "text": [
      "SG9sYQ==\n",
      "RWplbXBsb3M=\n"
     ]
    }
   ],
   "source": [
    "# Tabla de caracteres Base64\n",
    "BASE64_CHARS = \"ABCDEFGHIJKLMNOPQRSTUVWXYZabcdefghijklmnopqrstuvwxyz0123456789+/\"\n",
    "\n",
    "def string_to_binary(text):\n",
    "    \"\"\" Convierte una cadena de texto en su representación binaria \"\"\"\n",
    "    return ''.join(format(ord(char), '08b') for char in text)\n",
    "\n",
    "def binary_to_base64(binary_str):\n",
    "    \"\"\" Convierte una cadena binaria en codificación Base64 \"\"\"\n",
    "    # Dividir en bloques de 6 bits\n",
    "    binary_groups = [binary_str[i:i+6] for i in range(0, len(binary_str), 6)]\n",
    "    \n",
    "    # Asegurar que cada bloque tenga 6 bits (rellenar con ceros si es necesario)\n",
    "    if len(binary_groups[-1]) < 6:\n",
    "        binary_groups[-1] = binary_groups[-1].ljust(6, '0')\n",
    "\n",
    "    # Convertir cada bloque de 6 bits a su valor decimal\n",
    "    base64_values = [int(bits, 2) for bits in binary_groups]\n",
    "\n",
    "    # Convertir a caracteres Base64\n",
    "    base64_chars = ''.join(BASE64_CHARS[val] for val in base64_values)\n",
    "\n",
    "    # Agregar padding con \"=\" si la longitud original no era múltiplo de 3\n",
    "    padding = (3 - len(binary_str) // 8 % 3) % 3\n",
    "    base64_chars += \"=\" * padding\n",
    "\n",
    "    return base64_chars\n",
    "\n",
    "def string_to_base64(text):\n",
    "    \"\"\" Función principal para convertir texto a Base64 manualmente \"\"\"\n",
    "    binary_str = string_to_binary(text)\n",
    "    base64_str = binary_to_base64(binary_str)\n",
    "    return base64_str\n",
    "\n",
    "\n",
    "texto = \"Hola\"\n",
    "print(string_to_base64(texto))\n",
    "\n",
    "texto= \"Ejemplos\"\n",
    "print(string_to_base64(texto))\n"
   ]
  },
  {
   "cell_type": "markdown",
   "metadata": {},
   "source": [
    "Base 64 a texto"
   ]
  },
  {
   "cell_type": "code",
   "execution_count": 16,
   "metadata": {},
   "outputs": [
    {
     "name": "stdout",
     "output_type": "stream",
     "text": [
      "Hola\n",
      "Ejemplos\n"
     ]
    }
   ],
   "source": [
    "\n",
    "def base64_to_binary(base64_str):\n",
    "    \"\"\" Convierte una cadena Base64 a su representación binaria \"\"\"\n",
    "    # Eliminar los caracteres de relleno '='\n",
    "    base64_str = base64_str.rstrip(\"=\")\n",
    "\n",
    "    # Convertir cada caracter Base64 a su índice decimal\n",
    "    decimal_values = [BASE64_CHARS.index(char) for char in base64_str]\n",
    "\n",
    "    # Convertir cada índice a su representación binaria de 6 bits\n",
    "    binary_str = ''.join(format(value, '06b') for value in decimal_values)\n",
    "\n",
    "    return binary_str\n",
    "\n",
    "def binary_to_string(binary_str):\n",
    "    \"\"\" Convierte una cadena binaria en texto ASCII \"\"\"\n",
    "    # Dividir en bloques de 8 bits (1 byte)\n",
    "    byte_groups = [binary_str[i:i+8] for i in range(0, len(binary_str), 8)]\n",
    "\n",
    "    # Eliminar los bytes incompletos al final\n",
    "    byte_groups = [b for b in byte_groups if len(b) == 8]\n",
    "\n",
    "    # Convertir cada bloque de 8 bits a un carácter ASCII\n",
    "    text = ''.join(chr(int(byte, 2)) for byte in byte_groups)\n",
    "\n",
    "    return text\n",
    "\n",
    "def base64_to_string(base64_str):\n",
    "    \"\"\" Función principal para decodificar una cadena Base64 manualmente \"\"\"\n",
    "    binary_str = base64_to_binary(base64_str)\n",
    "    text = binary_to_string(binary_str)\n",
    "    return text\n",
    "\n",
    "# Ejemplo de uso\n",
    "base64_text = \"SG9sYQ==\"\n",
    "print(base64_to_string(base64_text))\n",
    "\n",
    "base64_text=\"RWplbXBsb3M=\"\n",
    "print(base64_to_string(base64_text))"
   ]
  },
  {
   "cell_type": "markdown",
   "metadata": {},
   "source": [
    "XOR, bit a bit, con dos cadenas de texto."
   ]
  },
  {
   "cell_type": "code",
   "execution_count": null,
   "metadata": {},
   "outputs": [],
   "source": []
  }
 ],
 "metadata": {
  "kernelspec": {
   "display_name": "Python 3",
   "language": "python",
   "name": "python3"
  },
  "language_info": {
   "codemirror_mode": {
    "name": "ipython",
    "version": 3
   },
   "file_extension": ".py",
   "mimetype": "text/x-python",
   "name": "python",
   "nbconvert_exporter": "python",
   "pygments_lexer": "ipython3",
   "version": "3.11.9"
  }
 },
 "nbformat": 4,
 "nbformat_minor": 2
}
