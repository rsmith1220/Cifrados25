{
 "cells": [
  {
   "cell_type": "code",
   "execution_count": 1,
   "metadata": {},
   "outputs": [],
   "source": [
    "from Crypto.Cipher import AES\n",
    "from Crypto.Util.Padding import unpad"
   ]
  },
  {
   "cell_type": "code",
   "execution_count": null,
   "metadata": {},
   "outputs": [],
   "source": [
    "encrypted_file_path = 'archivo_cifrado.txt'\n",
    "\n",
    "decrypted_file_path = 'archivo_descifrado.txt'"
   ]
  },
  {
   "cell_type": "code",
   "execution_count": 3,
   "metadata": {},
   "outputs": [],
   "source": [
    "# Leer la clave AES desde el archivo\n",
    "def load_aes_key():\n",
    "    \"\"\"Carga la clave AES desde un archivo.\"\"\"\n",
    "    with open('aes_key.key', 'rb') as key_file:\n",
    "        key = key_file.read()\n",
    "    return key\n",
    "\n",
    "# Descifrar archivo\n",
    "def decrypt_file(encrypted_file_path, key, decrypted_file_path):\n",
    "    \"\"\"Descifra un archivo cifrado con AES en modo ECB.\"\"\"\n",
    "    cipher = AES.new(key, AES.MODE_ECB)\n",
    "\n",
    "    with open(encrypted_file_path, 'rb') as f:\n",
    "        encrypted_data = f.read()\n",
    "\n",
    "    # Descifrar los datos y eliminar el padding\n",
    "    decrypted_data = unpad(cipher.decrypt(encrypted_data), AES.block_size)\n",
    "\n",
    "    # Guardar archivo descifrado\n",
    "    with open(decrypted_file_path, 'wb') as f:\n",
    "        f.write(decrypted_data)\n",
    "    print(f\"Archivo descifrado guardado en: {decrypted_file_path}\")"
   ]
  },
  {
   "cell_type": "code",
   "execution_count": 4,
   "metadata": {},
   "outputs": [
    {
     "name": "stdout",
     "output_type": "stream",
     "text": [
      "Archivo descifrado guardado en: archivo_descifrado.txt\n"
     ]
    }
   ],
   "source": [
    "# Cargar la clave AES\n",
    "key = load_aes_key()\n",
    "\n",
    "# Descifrar el archivo\n",
    "decrypt_file(encrypted_file_path, key, decrypted_file_path)"
   ]
  },
  {
   "cell_type": "markdown",
   "metadata": {},
   "source": [
    "- ¿Cómo podríamos evitar ataques de ransomware?\n",
    "\n",
    "Para evitar el ransomware es importante no hacer click en cualquier archivo descargado sin tener la certeza que es confiable y no contiene virus.\n",
    "\n",
    "- ¿Qué tan importante es almacenar claves de manera segura?\n",
    "\n",
    "Es importante que esten almacenadas de manera segura porque al caer en otras manos, la informacion encriptada puede descifrarse y ser robada"
   ]
  }
 ],
 "metadata": {
  "kernelspec": {
   "display_name": "Python 3",
   "language": "python",
   "name": "python3"
  },
  "language_info": {
   "codemirror_mode": {
    "name": "ipython",
    "version": 3
   },
   "file_extension": ".py",
   "mimetype": "text/x-python",
   "name": "python",
   "nbconvert_exporter": "python",
   "pygments_lexer": "ipython3",
   "version": "3.11.9"
  }
 },
 "nbformat": 4,
 "nbformat_minor": 2
}
