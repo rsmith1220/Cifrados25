{
 "cells": [
  {
   "cell_type": "code",
   "execution_count": 4,
   "metadata": {},
   "outputs": [],
   "source": [
    "from Crypto.Cipher import ChaCha20, AES\n",
    "from Crypto.Random import get_random_bytes\n",
    "from Crypto.Util.Padding import pad, unpad\n",
    "import time"
   ]
  },
  {
   "cell_type": "code",
   "execution_count": null,
   "metadata": {},
   "outputs": [],
   "source": [
    "#cifrar con ChaCha20\n",
    "def chacha20_encrypt(plaintext, key, nonce):\n",
    "    cipher = ChaCha20.new(key=key, nonce=nonce)\n",
    "    ciphertext = cipher.encrypt(plaintext)\n",
    "    return ciphertext\n",
    "\n",
    "#descifrar ChaCha20\n",
    "def chacha20_decrypt(ciphertext, key, nonce):\n",
    "    cipher = ChaCha20.new(key=key, nonce=nonce)\n",
    "    plaintext = cipher.decrypt(ciphertext)\n",
    "    return plaintext"
   ]
  },
  {
   "cell_type": "code",
   "execution_count": 6,
   "metadata": {},
   "outputs": [],
   "source": [
    "# Generar una clave de 256 bits (32 bytes) y un nonce de 64 bits (8 bytes)\n",
    "key = get_random_bytes(32)  # Clave de 256 bits\n",
    "nonce = get_random_bytes(8)  # Nonce de 64 bits\n",
    "\n",
    "# Mensaje a cifrar\n",
    "message = b\"Este es un mensaje secreto que vamos a cifrar con ChaCha20.\"\n",
    "\n",
    "# Medir el tiempo de cifrado\n",
    "start_time = time.time()\n",
    "ciphertext = chacha20_encrypt(message, key, nonce)\n",
    "encryption_time = time.time() - start_time\n",
    "\n",
    "# Medir el tiempo de descifrado\n",
    "start_time = time.time()\n",
    "decrypted_message = chacha20_decrypt(ciphertext, key, nonce)\n",
    "decryption_time = time.time() - start_time"
   ]
  },
  {
   "cell_type": "code",
   "execution_count": 7,
   "metadata": {},
   "outputs": [
    {
     "name": "stdout",
     "output_type": "stream",
     "text": [
      "Mensaje original: b'Este es un mensaje secreto que vamos a cifrar con ChaCha20.'\n",
      "Mensaje descifrado: b'Este es un mensaje secreto que vamos a cifrar con ChaCha20.'\n",
      "Tiempo de cifrado (ChaCha20): 0.0019986629486083984 segundos\n",
      "Tiempo de descifrado (ChaCha20): 0.0 segundos\n"
     ]
    }
   ],
   "source": [
    "print(\"Mensaje original:\", message)\n",
    "print(\"Mensaje descifrado:\", decrypted_message)\n",
    "print(\"Tiempo de cifrado (ChaCha20):\", encryption_time, \"segundos\")\n",
    "print(\"Tiempo de descifrado (ChaCha20):\", decryption_time, \"segundos\")"
   ]
  },
  {
   "cell_type": "code",
   "execution_count": null,
   "metadata": {},
   "outputs": [],
   "source": [
    "# Función para cifrar con AES\n",
    "def aes_encrypt(plaintext, key):\n",
    "    cipher = AES.new(key, AES.MODE_ECB)\n",
    "    ciphertext = cipher.encrypt(pad(plaintext, AES.block_size))\n",
    "    return ciphertext\n",
    "\n",
    "# Función para descifrar AES\n",
    "def aes_decrypt(ciphertext, key):\n",
    "    cipher = AES.new(key, AES.MODE_ECB)\n",
    "    plaintext = unpad(cipher.decrypt(ciphertext), AES.block_size)\n",
    "    return plaintext"
   ]
  },
  {
   "cell_type": "code",
   "execution_count": 9,
   "metadata": {},
   "outputs": [],
   "source": [
    "# Generar una clave de 256 bits (32 bytes)\n",
    "key = get_random_bytes(32)  # Clave de 256 bits\n",
    "\n",
    "# Medir el tiempo de cifrado y descifrado con AES\n",
    "message = b\"Este es un mensaje secreto que vamos a cifrar con AES.\"\n",
    "\n",
    "# Medir el tiempo de cifrado\n",
    "start_time = time.time()\n",
    "ciphertext_aes = aes_encrypt(message, key)\n",
    "encryption_time_aes = time.time() - start_time\n",
    "\n",
    "# Medir el tiempo de descifrado\n",
    "start_time = time.time()\n",
    "decrypted_message_aes = aes_decrypt(ciphertext_aes, key)\n",
    "decryption_time_aes = time.time() - start_time"
   ]
  },
  {
   "cell_type": "code",
   "execution_count": 10,
   "metadata": {},
   "outputs": [
    {
     "name": "stdout",
     "output_type": "stream",
     "text": [
      "Tiempo de cifrado (AES): 0.000997781753540039 segundos\n",
      "Tiempo de descifrado (AES): 0.0 segundos\n"
     ]
    }
   ],
   "source": [
    "\n",
    "print(\"Tiempo de cifrado (AES):\", encryption_time_aes, \"segundos\")\n",
    "print(\"Tiempo de descifrado (AES):\", decryption_time_aes, \"segundos\")"
   ]
  },
  {
   "cell_type": "markdown",
   "metadata": {},
   "source": [
    "- ¿Analizar que cifrado es mas rápido ChaCha20 o AES?\n",
    "\n",
    "El cifrado AES es mas rapido\n",
    "\n",
    "- ¿En qué casos debería usarse Cha Cha en vez de AES?\n",
    "\n",
    "Principalmente en criptomonedas asi como en protocolos de comunicacion TLS"
   ]
  }
 ],
 "metadata": {
  "kernelspec": {
   "display_name": "Python 3",
   "language": "python",
   "name": "python3"
  },
  "language_info": {
   "codemirror_mode": {
    "name": "ipython",
    "version": 3
   },
   "file_extension": ".py",
   "mimetype": "text/x-python",
   "name": "python",
   "nbconvert_exporter": "python",
   "pygments_lexer": "ipython3",
   "version": "3.11.9"
  }
 },
 "nbformat": 4,
 "nbformat_minor": 2
}
