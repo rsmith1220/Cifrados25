{
 "cells": [
  {
   "cell_type": "code",
   "execution_count": 30,
   "metadata": {},
   "outputs": [],
   "source": [
    "import os\n",
    "from Crypto.Cipher import AES\n",
    "from Crypto.Util.Padding import pad\n",
    "import secrets"
   ]
  },
  {
   "cell_type": "code",
   "execution_count": null,
   "metadata": {},
   "outputs": [],
   "source": [
    "# Ruta del archivo a cifrar\n",
    "file_path = 'DES.txt'\n",
    "\n",
    "# Ruta del archivo cifrado\n",
    "encrypted_file_path = 'archivo_cifrado.txt'"
   ]
  },
  {
   "cell_type": "code",
   "execution_count": 32,
   "metadata": {},
   "outputs": [],
   "source": [
    "# Generación de clave AES\n",
    "def generate_aes_key():\n",
    "    \"\"\"Genera una clave aleatoria de 256 bits (32 bytes) para AES.\"\"\"\n",
    "    return secrets.token_bytes(32)  # AES-256 usa una clave de 32 bytes\n",
    "\n",
    "# Cifrar archivo\n",
    "def encrypt_file(file_path, key, encrypted_file_path):\n",
    "    \"\"\"Cifra un archivo de texto usando AES en modo ECB.\"\"\"\n",
    "    cipher = AES.new(key, AES.MODE_ECB)\n",
    "\n",
    "    with open(file_path, 'rb') as f:\n",
    "        file_data = f.read()\n",
    "\n",
    "    # Aplicar padding al archivo de texto\n",
    "    padded_data = pad(file_data, AES.block_size)\n",
    "\n",
    "    encrypted_data = cipher.encrypt(padded_data)\n",
    "\n",
    "    # Guardar archivo cifrado\n",
    "    with open(encrypted_file_path, 'wb') as f:\n",
    "        f.write(encrypted_data)\n",
    "    print(f\"Archivo cifrado guardado en: {encrypted_file_path}\")\n"
   ]
  },
  {
   "cell_type": "code",
   "execution_count": 33,
   "metadata": {},
   "outputs": [
    {
     "name": "stdout",
     "output_type": "stream",
     "text": [
      "Archivo cifrado guardado en: archivo_cifrado.txt\n",
      "Clave AES guardada en 'aes_key.key'\n"
     ]
    }
   ],
   "source": [
    "# Generar la clave AES\n",
    "key = generate_aes_key()\n",
    "\n",
    "# Cifrar el archivo\n",
    "encrypt_file(file_path, key, encrypted_file_path)\n",
    "\n",
    "# Guardar la clave AES para usarla en el descifrado\n",
    "with open('aes_key.key', 'wb') as key_file:\n",
    "    key_file.write(key)\n",
    "print(\"Clave AES guardada en 'aes_key.key'\")"
   ]
  }
 ],
 "metadata": {
  "kernelspec": {
   "display_name": "Python 3",
   "language": "python",
   "name": "python3"
  },
  "language_info": {
   "codemirror_mode": {
    "name": "ipython",
    "version": 3
   },
   "file_extension": ".py",
   "mimetype": "text/x-python",
   "name": "python",
   "nbconvert_exporter": "python",
   "pygments_lexer": "ipython3",
   "version": "3.11.9"
  }
 },
 "nbformat": 4,
 "nbformat_minor": 2
}
