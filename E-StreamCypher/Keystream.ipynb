{
 "cells": [
  {
   "cell_type": "markdown",
   "metadata": {},
   "source": [
    " 1. Generación de Keystream\n",
    "\n",
    "Escriban una función en el lenguaje de programación que prefieran para generar un keystream pseudoaleatorio basado en:\n",
    "\n",
    "- Un generador de números pseudoaleatorios (PRNG) básico.\n",
    "- Una clave (seed/nonce) para inicializar el PRNG.\n",
    "- Asegúrate de que el keystream tenga al menos la misma longitud que el mensaje a cifrar.\n",
    "\n",
    "2. Cifrado\n",
    "\n",
    "    Implementa una función que tome un mensaje en texto plano y lo cifre utilizando la operación XOR con el keystream generado.\n",
    "\n",
    "3. Descifrado\n",
    "\n",
    "    Implementa una función que tome el mensaje cifrado y lo descifre utilizando la misma operación XOR con el keystream. Asegúrate de que el descifrado reproduzca exactamente el mensaje original.\n"
   ]
  },
  {
   "cell_type": "code",
   "execution_count": 1,
   "metadata": {},
   "outputs": [
    {
     "name": "stdout",
     "output_type": "stream",
     "text": [
      "Texto cifrado (hex): 98215745f9f31a22e6cbf15d310512c43b633331692d061a773bf9\n",
      "Texto descifrado: Este mensaje se va a cifrar\n"
     ]
    }
   ],
   "source": [
    "import secrets\n",
    "import struct\n",
    "import os\n",
    "\n",
    "class PRNG:\n",
    "    def __init__(self, seed):\n",
    "        self.state = seed\n",
    "\n",
    "    def next_byte(self):\n",
    "        #byte aleatorio\n",
    "        self.state = (1103515245 * self.state + 12345) & 0x7FFFFFFF\n",
    "        return self.state & 0xFF\n",
    "\n",
    "    def keystream(self, length):\n",
    "        #genera key stream\n",
    "        return bytes(self.next_byte() for _ in range(length))\n",
    "\n",
    "def xor_encrypt(plaintext: bytes, keystream: bytes) -> bytes:\n",
    "    #cifrado xor\n",
    "    return bytes(p ^ k for p, k in zip(plaintext, keystream))\n",
    "\n",
    "def xor_decrypt(ciphertext: bytes, keystream: bytes) -> bytes:\n",
    "    #descifrado\n",
    "    return bytes(c ^ k for c, k in zip(ciphertext, keystream))\n",
    "\n",
    "\n",
    "message = b\"Este mensaje se va a cifrar\"\n",
    "\n",
    "# Generar una semilla aleatoria\n",
    "seed = struct.unpack(\"I\", os.urandom(4))[0]\n",
    "prng = PRNG(seed)\n",
    "\n",
    "# Generar el keystream del mismo tamaño que el mensaje\n",
    "keystream = prng.keystream(len(message))\n",
    "\n",
    "# Cifrar el mensaje\n",
    "ciphertext = xor_encrypt(message, keystream)\n",
    "print(\"Texto cifrado (hex):\", ciphertext.hex())\n",
    "\n",
    "\n",
    "prng_decrypt = PRNG(seed)\n",
    "keystream_decrypt = prng_decrypt.keystream(len(message))\n",
    "plaintext = xor_decrypt(ciphertext, keystream_decrypt)\n",
    "\n",
    "print(\"Texto descifrado:\", plaintext.decode())\n"
   ]
  },
  {
   "cell_type": "markdown",
   "metadata": {},
   "source": [
    "\n",
    "### ¿Qué sucede cuando cambias la clave utilizada para generar el keystream?\n",
    "\n",
    "Si se cambia la clave, cambia lo generado\n",
    "\n",
    "### ¿Qué riesgos de seguridad existen si reutilizas el mismo keystream para cifrar dos mensajes diferentes?\n",
    "\n",
    "Al cifrar dos mensajes con el mismo keystream se puede caer en riesgo de descifrar los mensajes ms facil porque no les va a tomar tanto trabajo encontrar el resultado\n",
    "\n",
    "### ¿Cómo afecta la longitud del keystream a la seguridad del cifrado?\n",
    "\n",
    "Mientras mas largo el keystream, mas complejo va a ser descrifrarlo\n",
    "\n",
    "### ¿Qué consideraciones debes tener al generar un keystream en un entorno real?\n",
    "\n",
    "Asegurarse que sea aleatorio y que no sea de una longitud chiquita para asegurarlo mas\n"
   ]
  },
  {
   "cell_type": "markdown",
   "metadata": {},
   "source": [
    "Referencia\n",
    "\n",
    "https://chatgpt.com/share/67be10bf-ff24-8005-a521-5fb0277b04dd"
   ]
  }
 ],
 "metadata": {
  "kernelspec": {
   "display_name": "Python 3",
   "language": "python",
   "name": "python3"
  },
  "language_info": {
   "codemirror_mode": {
    "name": "ipython",
    "version": 3
   },
   "file_extension": ".py",
   "mimetype": "text/x-python",
   "name": "python",
   "nbconvert_exporter": "python",
   "pygments_lexer": "ipython3",
   "version": "3.11.9"
  }
 },
 "nbformat": 4,
 "nbformat_minor": 2
}
