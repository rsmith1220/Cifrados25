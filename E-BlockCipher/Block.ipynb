{
 "cells": [
  {
   "cell_type": "markdown",
   "metadata": {},
   "source": [
    "1. Generación una función cifrado y descifrado DES \n",
    "\n",
    "    Escriban una función en el lenguaje de programación que prefieran, que tome un mensaje en texto plano y lo cifre implementando el algoritmo de cifrado DES con el modo ECB.\n",
    "    Implemente la generación aleatoria del la llave\n",
    "    Implemente la función de relleno de bits manualmente\n"
   ]
  },
  {
   "cell_type": "code",
   "execution_count": 6,
   "metadata": {},
   "outputs": [],
   "source": [
    "from Crypto.Cipher import DES\n",
    "from Crypto.Random import get_random_bytes\n",
    "import secrets"
   ]
  },
  {
   "cell_type": "code",
   "execution_count": 7,
   "metadata": {},
   "outputs": [],
   "source": [
    "def generar_llave():\n",
    "    return get_random_bytes(8)\n",
    "\n",
    "# Relleno de bits manual\n",
    "def relleno_bits(texto):\n",
    "    longitud = len(texto)\n",
    "    relleno = 8 - (longitud % 8)\n",
    "    return texto + bytes([relleno] * relleno)\n",
    "\n",
    "# Función de cifrado en modo ECB\n",
    "def cifrar(texto, llave):\n",
    "    # Relleno del texto para que sea múltiplo de 8 bytes\n",
    "    texto_relleno = relleno_bits(texto)\n",
    "    \n",
    "    # Crear el objeto de cifrado DES en modo ECB\n",
    "    cipher = DES.new(llave, DES.MODE_ECB)\n",
    "    \n",
    "    # Cifrar el texto\n",
    "    texto_cifrado = cipher.encrypt(texto_relleno)\n",
    "    return texto_cifrado"
   ]
  },
  {
   "cell_type": "code",
   "execution_count": 8,
   "metadata": {},
   "outputs": [],
   "source": [
    "# Función de descifrado en modo ECB\n",
    "def descifrar(texto_cifrado, llave):\n",
    "    # Crear el objeto de descifrado DES en modo ECB\n",
    "    cipher = DES.new(llave, DES.MODE_ECB)\n",
    "    \n",
    "    # Descifrar el texto\n",
    "    texto_descifrado = cipher.decrypt(texto_cifrado)\n",
    "    \n",
    "    # Eliminar el relleno de bits\n",
    "    longitud_relleno = texto_descifrado[-1]\n",
    "    return texto_descifrado[:-longitud_relleno]"
   ]
  },
  {
   "cell_type": "code",
   "execution_count": 9,
   "metadata": {},
   "outputs": [],
   "source": [
    "# Función para leer el contenido de un archivo txt\n",
    "def leer_archivo(ruta):\n",
    "    with open(ruta, 'rb') as archivo:\n",
    "        return archivo.read()"
   ]
  },
  {
   "cell_type": "code",
   "execution_count": 11,
   "metadata": {},
   "outputs": [
    {
     "name": "stdout",
     "output_type": "stream",
     "text": [
      "Texto original leído del archivo: b'The DES block cipher is a 16-round Feistel network with a block length of\\r\\n64 bits and a key length of 56 bits. The same round function \\xcb\\x86 f is used in each\\r\\nof the 16 rounds. The round function takes a 48-bit sub-key and, as expected\\r\\nfor a (balanced) Feistel network, a 32-bit input (namely, half a block). The\\r\\nkey schedule of DES is used to derive a sequence of 48-bit sub-keys k1, . . . , k16\\r\\nfrom the 56-bit master key.\\r\\nThe DES block cipher is a 16-round Feistel network with a block length of\\r\\n64 bits and a key length of 56 bits. The same round function \\xcb\\x86 f is used in each\\r\\nof the 16 rounds. The round function takes a 48-bit sub-key and, as expected\\r\\nfor a (balanced) Feistel network, a 32-bit input (namely, half a block). The\\r\\nkey schedule of DES is used to derive a sequence of 48-bit sub-keys k1, . . . , k16\\r\\nfrom the 56-bit master key.\\r\\n\\r\\n'\n",
      "\n",
      "LLave: caacfdb4648a15d3\n",
      "\n",
      "Texto cifrado: 15e706e885a1308c6c85f51b9873fcd1dc955d128587d7bad3703c966fbb536b8d754cdfeea79bdce5d1d71ad25e6d871805d152f617c834cbc2c12935c16bc906a9c53cba9622214483216f75ea760ee768db66dfea3eec7ca603376ecc40c889a71e74c36de7a5050792f248aa51ffea30244526e117628bf1b6bf5199fb9826d3f4e1c27eb956c8f7cb76b390f1717d9c6fc5f3983acd24a623c7ae7f9d2e2387fab911ed54e594fd06d03df4ec61dfd5c63ba7db8c4ac4846e07b6cebdf28417fd7fd4359b5e85fce814ba245e338a0a14007891e44863ed56499918b94aac46ca7f6cef02ed0996726df4d948f1e18d7523c549f59726deb17bb914cb0884a3490f80a8c0278112d1da241ebdd8b3b3b9e7a555c1c658b5f6a0d6d36a3707f4d8f23775d8f75d0976c8094cc73f5032d32ff7554a39e7c95186d6764ed48515be28505bd3371bf1f9f9438a24f1531945474bc7d15a82fa21bdea1bb43202c3d243d3b79d9a954ab01207105bd7890be674d9ae70af7df683525778a28c31604302ec2285158e9d0eb8dff470063076552b14dc02a78d1cae7eb8ac40e3c63691c7f8cf7870c81f2f294ae27d5bbbcf564b2f207a343cc60c628839d1d4f2d700016941bb118ec42437d42c37dee116bbcc5b0db78be0e389864dc42cf7f949055d0e750438c49ca85b40fdbce4526af5b95fb4a8989f49e3dbe621111c9e9ddd623f037d106bc1fe615888dbeeec7e642400421e485e8285500f6d7d81e4e931402d3305d4394833b71bca62c0bef2344de1ee15996b1affbb6b0be901dd567f52f6cd6a27673ef93255626f213a24ec0bbb3b870c3c25a775ab5dc83c93cbaab89edb4dd95621c1d6595de4722f725e7d5236526b9ec1336c5b69c2f27e8b49958d7eb4d494be22036abad99fbaf0d866d0f5edac44559c9844d900648871a047e3ed2dbe061d37f22c9a9e2aa92e6a17e7d2e61019635a068bb68d4ef7f9adc3b28aa2e8de17b490304dfdf22cd0f5edb9af99d17d9966cfac657756d1b842dd05979ebe50e1a8b194521aeaf0f27326645e52af0f7bf721104514cd481948045f29e7ad235cad7961c121d336de02fd1ce3261142ecc620c7d60db3d1bc00e0a05e741a817b01c237dc2a1ef42b7c8a0c71bc3684de185605a90ae18e5c5684042a392f44fd9a837f269c99f0f9ea5baf278999a6aa6f9e38c8b16d\n",
      "\n",
      "Texto descifrado: The DES block cipher is a 16-round Feistel network with a block length of\n",
      "64 bits and a key length of 56 bits. The same round function ˆ f is used in each\n",
      "of the 16 rounds. The round function takes a 48-bit sub-key and, as expected\n",
      "for a (balanced) Feistel network, a 32-bit input (namely, half a block). The\n",
      "key schedule of DES is used to derive a sequence of 48-bit sub-keys k1, . . . , k16\n",
      "from the 56-bit master key.\n",
      "The DES block cipher is a 16-round Feistel network with a block length of\n",
      "64 bits and a key length of 56 bits. The same round function ˆ f is used in each\n",
      "of the 16 rounds. The round function takes a 48-bit sub-key and, as expected\n",
      "for a (balanced) Feistel network, a 32-bit input (namely, half a block). The\n",
      "key schedule of DES is used to derive a sequence of 48-bit sub-keys k1, . . . , k16\n",
      "from the 56-bit master key.\n",
      "\n",
      "\n"
     ]
    }
   ],
   "source": [
    "# Ruta del archivo .txt que deseas cifrar\n",
    "ruta_archivo = 'des.txt'\n",
    "\n",
    "# Leer el contenido del archivo\n",
    "texto = leer_archivo(ruta_archivo)\n",
    "\n",
    "# Generar una llave aleatoria de 8 bytes\n",
    "llave = generar_llave()\n",
    "print(f\"Texto original leído del archivo: {texto}\")\n",
    "\n",
    "print(f\"\\nLLave: {llave.hex()}\")\n",
    "\n",
    "# Cifrar el texto\n",
    "texto_cifrado = cifrar(texto, llave)\n",
    "print(f\"\\nTexto cifrado: {texto_cifrado.hex()}\")\n",
    "\n",
    "# Descifrar el texto\n",
    "texto_descifrado = descifrar(texto_cifrado, llave)\n",
    "print(f\"\\nTexto descifrado: {texto_descifrado.decode()}\")"
   ]
  },
  {
   "cell_type": "markdown",
   "metadata": {},
   "source": [
    "2. Generación una función cifrado y descifrado 3DES\n",
    "\n",
    "    Escriban una función en el lenguaje de programación que prefieran, que tome un mensaje en texto plano y lo cifre implementando el algoritmo de cifrado 3DES con el modo CBC.\n",
    "    Implemente la generación aleatoria del la llave\n",
    "    Utilice la función de relleno de bits de la librería por medio de pad"
   ]
  },
  {
   "cell_type": "code",
   "execution_count": 12,
   "metadata": {},
   "outputs": [],
   "source": [
    "from Crypto.Cipher import DES3\n",
    "from Crypto.Random import get_random_bytes\n",
    "from Crypto.Util.Padding import pad, unpad\n",
    "from Crypto.Random import get_random_bytes"
   ]
  },
  {
   "cell_type": "code",
   "execution_count": 13,
   "metadata": {},
   "outputs": [],
   "source": [
    "# Generación de una clave 3DES aleatoria (24 bytes)\n",
    "def generar_llave_3des():\n",
    "    return get_random_bytes(24)\n",
    "\n",
    "# Función de cifrado 3DES en modo CBC\n",
    "def cifrar_3des(texto, llave):\n",
    "    # Generar un IV aleatorio para el modo CBC\n",
    "    iv = get_random_bytes(8)  # CBC necesita un IV de 8 bytes\n",
    "    \n",
    "    # Rellenar el texto para que sea múltiplo de 8 bytes (usando la función pad de la librería)\n",
    "    texto_relleno = pad(texto, 8)\n",
    "    \n",
    "    # Crear el objeto de cifrado 3DES en modo CBC\n",
    "    cipher = DES3.new(llave, DES3.MODE_CBC, iv)\n",
    "    \n",
    "    # Cifrar el texto\n",
    "    texto_cifrado = cipher.encrypt(texto_relleno)\n",
    "    return iv + texto_cifrado  # Devolver IV + texto cifrado para su uso posterior"
   ]
  },
  {
   "cell_type": "code",
   "execution_count": 14,
   "metadata": {},
   "outputs": [],
   "source": [
    "# Función de descifrado 3DES en modo CBC\n",
    "def descifrar_3des(texto_cifrado, llave):\n",
    "    # Extraer el IV del texto cifrado\n",
    "    iv = texto_cifrado[:8]\n",
    "    texto_cifrado = texto_cifrado[8:]\n",
    "    \n",
    "    # Crear el objeto de descifrado 3DES en modo CBC\n",
    "    cipher = DES3.new(llave, DES3.MODE_CBC, iv)\n",
    "    \n",
    "    # Descifrar el texto\n",
    "    texto_descifrado = cipher.decrypt(texto_cifrado)\n",
    "    \n",
    "    # Eliminar el relleno de bits\n",
    "    texto_descifrado = unpad(texto_descifrado, 8)\n",
    "    return texto_descifrado"
   ]
  },
  {
   "cell_type": "code",
   "execution_count": 16,
   "metadata": {},
   "outputs": [
    {
     "name": "stdout",
     "output_type": "stream",
     "text": [
      "Texto original leído del archivo: b'The main weakness of DES is its short key. It thus makes sense to try to\\r\\ndesign a block cipher with a larger key length using DES as a building block.\\r\\nSome approaches to doing so are discussed in this section. Although we refer\\r\\nto DES frequently throughout the discussion, and DES is the most prominent\\r\\nblock cipher to which these techniques have been applied, everything we say\\r\\nhere applies generically to any block cipher.'\n",
      "\n",
      "Texto cifrado: 4704aa4525b8436fdf211e2d534c28e8575beb58644b74baba25f537f10a7f17a8d487056177113321969d7ab97e5dfe4f13a4e34621fe079ab02834c6844fc5a257eae0ce4a7cb033f29969c4b50b69872fc36ea85d2a04ed87f72bccdf04ec80f77db0896353249107217d759a476d18cf014ee4b47f9fc78b9508a7fa105380f8aa1b9761408fb1be110a2857085727e1ebd74e1676a00b47d3851236978bdfd8f908bd18987422118e6dc7c33f9be5a2a81dc7635388ddaee6a212926f40b52c6ccee10707e3654bacd87bcb2380b415add202deb4a54bcff3ddb6fb16520f74cdd615e356bdd80e1af4cbe30ff09b1c117e41eaa9d4e2704ceef677fc291c6c4a9d1d63c6e546908876d24ee54acac4eae298fb818e43f4e2fa0cc61e72d9d5c23f0e2fb77aa645afb8b9addb00b03bab5b3d9c177698b65b8b9deee5bb5d61b8fde1b254c7b771e70fb2c66da99c1fbfbb834a99649ddd5467d6696478f90281359c8fd53c1c0bd5094e461a9f76f59b2f9015188d068224acc1ab29081700079f2d096725e728a3e3c625b4a53d4fe42282da82ec3b779b1dd9fc07d1e32edb740c225f106edef98f6291bb8ff1e2fb2d409e013f\n",
      "\n",
      "Texto descifrado: The main weakness of DES is its short key. It thus makes sense to try to\n",
      "design a block cipher with a larger key length using DES as a building block.\n",
      "Some approaches to doing so are discussed in this section. Although we refer\n",
      "to DES frequently throughout the discussion, and DES is the most prominent\n",
      "block cipher to which these techniques have been applied, everything we say\n",
      "here applies generically to any block cipher.\n"
     ]
    }
   ],
   "source": [
    "# Ruta del archivo .txt que deseas cifrar\n",
    "ruta_archivo = '3des.txt'\n",
    "\n",
    "# Leer el contenido del archivo\n",
    "texto = leer_archivo(ruta_archivo)\n",
    "\n",
    "# Generar una llave aleatoria de 8 bytes\n",
    "llave = generar_llave_3des()\n",
    "print(f\"Texto original leído del archivo: {texto}\")\n",
    "\n",
    "\n",
    "# Cifrar el texto\n",
    "texto_cifrado = cifrar_3des(texto, llave)\n",
    "print(f\"\\nTexto cifrado: {texto_cifrado.hex()}\")\n",
    "\n",
    "# Descifrar el texto\n",
    "texto_descifrado = descifrar_3des(texto_cifrado, llave)\n",
    "print(f\"\\nTexto descifrado: {texto_descifrado.decode()}\")"
   ]
  },
  {
   "cell_type": "markdown",
   "metadata": {},
   "source": [
    "3. Generación una función cifrado y descifrado AES con CBC Y ECB\n",
    "\n",
    "    Implementa una función que tome la imagen brindada en texto plano y lo cifre utilizando la operación AES con el modo CBC y ECB\n",
    "    Implemente la generación aleatoria del vector de inicialización\n",
    "    Implemente la generación aleatoria del la llave\n",
    "    Utilice la función de relleno de bits de la librería por medio de pad\n"
   ]
  },
  {
   "cell_type": "code",
   "execution_count": 17,
   "metadata": {},
   "outputs": [],
   "source": [
    "from Crypto.Cipher import AES\n",
    "from Crypto.Random import get_random_bytes\n",
    "from Crypto.Util.Padding import pad, unpad\n",
    "from PIL import Image\n",
    "import io"
   ]
  },
  {
   "cell_type": "code",
   "execution_count": 18,
   "metadata": {},
   "outputs": [],
   "source": [
    "# Generación de una clave AES aleatoria (16, 24 o 32 bytes para AES-128, AES-192, o AES-256)\n",
    "def generar_llave_aes(tamano=16):\n",
    "    return get_random_bytes(tamano)\n",
    "\n",
    "# Generación de un IV aleatorio para el modo CBC\n",
    "def generar_iv():\n",
    "    return get_random_bytes(16)  # AES requiere un IV de 16 bytes"
   ]
  },
  {
   "cell_type": "code",
   "execution_count": 19,
   "metadata": {},
   "outputs": [],
   "source": [
    "# Función de cifrado AES en modo CBC\n",
    "def cifrar_aes_cbc(imagen_bytes, llave):\n",
    "    # Generar un IV aleatorio para el modo CBC\n",
    "    iv = generar_iv()\n",
    "\n",
    "    # Rellenar el texto para que sea múltiplo de 16 bytes\n",
    "    imagen_relleno = pad(imagen_bytes, 16)\n",
    "\n",
    "    # Crear el objeto de cifrado AES en modo CBC\n",
    "    cipher = AES.new(llave, AES.MODE_CBC, iv)\n",
    "\n",
    "    # Cifrar la imagen\n",
    "    imagen_cifrada = cipher.encrypt(imagen_relleno)\n",
    "    return iv + imagen_cifrada  # Devolver IV + imagen cifrada\n",
    "\n",
    "# Función de descifrado AES en modo CBC\n",
    "def descifrar_aes_cbc(imagen_cifrada, llave):\n",
    "    # Extraer el IV del texto cifrado\n",
    "    iv = imagen_cifrada[:16]\n",
    "    imagen_cifrada = imagen_cifrada[16:]\n",
    "\n",
    "    # Crear el objeto de descifrado AES en modo CBC\n",
    "    cipher = AES.new(llave, AES.MODE_CBC, iv)\n",
    "\n",
    "    # Descifrar la imagen\n",
    "    imagen_descifrada = cipher.decrypt(imagen_cifrada)\n",
    "\n",
    "    # Eliminar el relleno de bits\n",
    "    imagen_descifrada = unpad(imagen_descifrada, 16)\n",
    "    return imagen_descifrada"
   ]
  },
  {
   "cell_type": "code",
   "execution_count": 20,
   "metadata": {},
   "outputs": [],
   "source": [
    "# Función de cifrado AES en modo ECB\n",
    "def cifrar_aes_ecb(imagen_bytes, llave):\n",
    "    # Rellenar el texto para que sea múltiplo de 16 bytes\n",
    "    imagen_relleno = pad(imagen_bytes, 16)\n",
    "\n",
    "    # Crear el objeto de cifrado AES en modo ECB\n",
    "    cipher = AES.new(llave, AES.MODE_ECB)\n",
    "\n",
    "    # Cifrar la imagen\n",
    "    imagen_cifrada = cipher.encrypt(imagen_relleno)\n",
    "    return imagen_cifrada\n",
    "\n",
    "# Función de descifrado AES en modo ECB\n",
    "def descifrar_aes_ecb(imagen_cifrada, llave):\n",
    "    # Crear el objeto de descifrado AES en modo ECB\n",
    "    cipher = AES.new(llave, AES.MODE_ECB)\n",
    "\n",
    "    # Descifrar la imagen\n",
    "    imagen_descifrada = cipher.decrypt(imagen_cifrada)\n",
    "\n",
    "    # Eliminar el relleno de bits\n",
    "    imagen_descifrada = unpad(imagen_descifrada, 16)\n",
    "    return imagen_descifrada"
   ]
  },
  {
   "cell_type": "code",
   "execution_count": 21,
   "metadata": {},
   "outputs": [],
   "source": [
    "# Función para leer una imagen en formato binario\n",
    "def leer_imagen(ruta):\n",
    "    with open(ruta, 'rb') as archivo:\n",
    "        return archivo.read()\n",
    "\n",
    "# Función para guardar una imagen descifrada en un archivo\n",
    "def guardar_imagen(descifrada, ruta_salida):\n",
    "    with open(ruta_salida, 'wb') as archivo:\n",
    "        archivo.write(descifrada)\n"
   ]
  },
  {
   "cell_type": "code",
   "execution_count": 22,
   "metadata": {},
   "outputs": [
    {
     "name": "stdout",
     "output_type": "stream",
     "text": [
      "Proceso de cifrado y descifrado completado.\n"
     ]
    }
   ],
   "source": [
    "# Ruta de la imagen a cifrar\n",
    "ruta_imagen = 'pic.png'\n",
    "\n",
    "# Leer la imagen\n",
    "imagen_bytes = leer_imagen(ruta_imagen)\n",
    "\n",
    "# Generar una clave AES aleatoria de 16 bytes (AES-128)\n",
    "llave = generar_llave_aes(16)\n",
    "\n",
    "# Cifrar la imagen usando CBC\n",
    "imagen_cifrada_cbc = cifrar_aes_cbc(imagen_bytes, llave)\n",
    "guardar_imagen(imagen_cifrada_cbc, 'imagen_cifrada_cbc.bin')\n",
    "\n",
    "# Cifrar la imagen usando ECB\n",
    "imagen_cifrada_ecb = cifrar_aes_ecb(imagen_bytes, llave)\n",
    "guardar_imagen(imagen_cifrada_ecb, 'imagen_cifrada_ecb.bin')\n",
    "\n",
    "# Descifrar la imagen en modo CBC\n",
    "imagen_descifrada_cbc = descifrar_aes_cbc(imagen_cifrada_cbc, llave)\n",
    "guardar_imagen(imagen_descifrada_cbc, 'imagen_descifrada_cbc.jpg')\n",
    "\n",
    "# Descifrar la imagen en modo ECB\n",
    "imagen_descifrada_ecb = descifrar_aes_ecb(imagen_cifrada_ecb, llave)\n",
    "guardar_imagen(imagen_descifrada_ecb, 'imagen_descifrada_ecb.jpg')\n",
    "\n",
    "print(\"Proceso de cifrado y descifrado completado.\")"
   ]
  },
  {
   "cell_type": "markdown",
   "metadata": {},
   "source": [
    "4. Preguntas a Responder\n",
    "\n",
    "    **¿Qué tamaño de clave se está usando para DES, 3DES y AES?**\n",
    "\n",
    "    para des es 64 bits, para 3DES es 56 y para AES puede ser 128, 192 o 256 bits.\n",
    "    \n",
    "\n",
    "    **¿Qué modo de operación está implementado?**\n",
    "\n",
    "    DES y 3DES: ECCB o CBC comúnmente\n",
    "\n",
    "    AES: CBC, GCM, CTR y ECB\n",
    "\n",
    "    **¿Por qué no debemos usar ECB en datos sensibles?**\n",
    "\n",
    "    Tiene patrones repetitivos asi como cifrado independiente en cada bloque. Esto hace que se puedan manipular los bloques.\n",
    "\n",
    "    **¿Cual es la diferencia entre ECB vs CBC, se puede notar directamente en una imagen?**\n",
    "\n",
    "    ECB cifra de forma independiente y CBC cifra cada bloque con el anterior.\n",
    "\n",
    "    Si se nota en una imagen, con ECB aún se puede saber la imágen mientras que con CBC no se sabe que imágen se cifró.\n",
    "\n",
    "    **¿Que es el IV?**\n",
    "\n",
    "    Es un bloque de bits que se usa para encriptar el primer bloque de texto de un mensaje.\n",
    "\n",
    "    **¿Que es el PADDING?**\n",
    "\n",
    "    es cuando se usa relleno para llenar el bloque que se está cifrando\n",
    "\n",
    "    **¿En qué situaciones se recomienda cada modo de operación?**\n",
    "\n",
    "    ECB: Datos no sensibles y entornos controlados\n",
    "\n",
    "    CBC: Datos donde la seguridad es una prioridad\n",
    "\n",
    "    **¿Cómo elegir un modo seguro en cada lenguaje de programación?**\n",
    "\n",
    "    Cada lenguaje tiene su manera para asegurar la información, el único detalle es que siempre se debe evitar el modo ECB. No hay un lenguaje seguro especificamente, solo la manera de encriptar. \n",
    "\n"
   ]
  },
  {
   "cell_type": "markdown",
   "metadata": {},
   "source": [
    "Referencias\n",
    "\n",
    "https://forum.huawei.com/enterprise/intl/es/thread/introducci%C3%B3n-a-des-3des-y-aes/667234955765366784?blogId=667234955765366784\n",
    "\n",
    "\n",
    "https://chatgpt.com/share/67ca4370-ae5c-8005-bf96-16c122fe5afb\n",
    "\n",
    "\n",
    "https://iberasync.es/el-cifrado-en-bloque-ecb-y-cbc/\n",
    "\n",
    "\n",
    "https://keepcoding.io/blog/que-es-un-vector-de-inicializacion/\n",
    "\n",
    "\n",
    "https://keepcoding.io/blog/que-es-padding-en-criptografia/\n",
    "\n",
    "https://chatgpt.com/share/67cf688d-94c4-8005-baab-f62bde6a0f5c\n",
    "\n",
    "https://chatgpt.com/share/67cf7b19-6f78-8005-9e3f-d2e88a2cf712"
   ]
  }
 ],
 "metadata": {
  "kernelspec": {
   "display_name": "Python 3",
   "language": "python",
   "name": "python3"
  },
  "language_info": {
   "codemirror_mode": {
    "name": "ipython",
    "version": 3
   },
   "file_extension": ".py",
   "mimetype": "text/x-python",
   "name": "python",
   "nbconvert_exporter": "python",
   "pygments_lexer": "ipython3",
   "version": "3.11.9"
  }
 },
 "nbformat": 4,
 "nbformat_minor": 2
}
