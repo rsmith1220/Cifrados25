{
 "cells": [
  {
   "cell_type": "markdown",
   "metadata": {},
   "source": [
    "1. Generación una función cifrado y descifrado DES \n",
    "\n",
    "    Escriban una función en el lenguaje de programación que prefieran, que tome un mensaje en texto plano y lo cifre implementando el algoritmo de cifrado DES con el modo ECB.\n",
    "    Implemente la generación aleatoria del la llave\n",
    "    Implemente la función de relleno de bits manualmente\n"
   ]
  },
  {
   "cell_type": "code",
   "execution_count": 7,
   "metadata": {},
   "outputs": [],
   "source": [
    "from Crypto.Cipher import DES\n",
    "from Crypto.Random import get_random_bytes\n",
    "import secrets"
   ]
  },
  {
   "cell_type": "code",
   "execution_count": null,
   "metadata": {},
   "outputs": [],
   "source": [
    "\n",
    "# Generación de una clave DES aleatoria de 8 bytes (64 bits)\n",
    "def generar_llave():\n",
    "    return get_random_bytes(8)\n",
    "\n",
    "# Relleno de bits manual\n",
    "def relleno_bits(texto):\n",
    "    # Calcular el número de bytes necesarios para completar el bloque\n",
    "    longitud = len(texto)\n",
    "    relleno = 8 - (longitud % 8)\n",
    "    return texto + bytes([relleno] * relleno)\n",
    "\n",
    "# Función de cifrado en modo ECB\n",
    "def cifrar(texto, llave):\n",
    "    # Relleno del texto para que sea múltiplo de 8 bytes\n",
    "    texto_relleno = relleno_bits(texto)\n",
    "    \n",
    "    # Crear el objeto de cifrado DES en modo ECB\n",
    "    cipher = DES.new(llave, DES.MODE_ECB)\n",
    "    \n",
    "    # Cifrar el texto\n",
    "    texto_cifrado = cipher.encrypt(texto_relleno)\n",
    "    return texto_cifrado\n"
   ]
  },
  {
   "cell_type": "code",
   "execution_count": 9,
   "metadata": {},
   "outputs": [],
   "source": [
    "# Función de descifrado en modo ECB\n",
    "def descifrar(texto_cifrado, llave):\n",
    "    # Crear el objeto de descifrado DES en modo ECB\n",
    "    cipher = DES.new(llave, DES.MODE_ECB)\n",
    "    \n",
    "    # Descifrar el texto\n",
    "    texto_descifrado = cipher.decrypt(texto_cifrado)\n",
    "    \n",
    "    # Eliminar el relleno de bits\n",
    "    longitud_relleno = texto_descifrado[-1]\n",
    "    return texto_descifrado[:-longitud_relleno]\n"
   ]
  },
  {
   "cell_type": "code",
   "execution_count": 11,
   "metadata": {},
   "outputs": [
    {
     "name": "stdout",
     "output_type": "stream",
     "text": [
      "Texto original: b'Este texto se cifra'\n",
      "LLave: b3d3cf0ab7c4799b\n",
      "Texto cifrado: 62cf0f903a0d6a08918d774283d32480577525d77b9ba13c\n",
      "Texto descifrado: Este texto se cifra\n"
     ]
    }
   ],
   "source": [
    "\n",
    "# Texto a cifrar\n",
    "texto = b\"Este texto se cifra\"\n",
    "\n",
    "# Generar una llave aleatoria de 8 bytes\n",
    "llave = generar_llave()\n",
    "print(f\"Texto original: {texto}\")\n",
    "print(f\"LLave: {llave.hex()}\")\n",
    "\n",
    "# Cifrar el texto\n",
    "texto_cifrado = cifrar(texto, llave)\n",
    "print(f\"Texto cifrado: {texto_cifrado.hex()}\")\n",
    "\n",
    "# Descifrar el texto\n",
    "texto_descifrado = descifrar(texto_cifrado, llave)\n",
    "print(f\"Texto descifrado: {texto_descifrado.decode()}\")"
   ]
  },
  {
   "cell_type": "markdown",
   "metadata": {},
   "source": [
    "2. Generación una función cifrado y descifrado 3DES\n",
    "\n",
    "    Escriban una función en el lenguaje de programación que prefieran, que tome un mensaje en texto plano y lo cifre implementando el algoritmo de cifrado 3DES con el modo CBC.\n",
    "    Implemente la generación aleatoria del la llave\n",
    "    Utilice la función de relleno de bits de la librería por medio de pad"
   ]
  },
  {
   "cell_type": "code",
   "execution_count": null,
   "metadata": {},
   "outputs": [],
   "source": []
  },
  {
   "cell_type": "markdown",
   "metadata": {},
   "source": [
    "3. Generación una función cifrado y descifrado AES con CBC Y ECB\n",
    "\n",
    "    Implementa una función que tome la imagen brindada en texto plano y lo cifre utilizando la operación AES con el modo CBC y ECB\n",
    "    Implemente la generación aleatoria del vector de inicialización\n",
    "    Implemente la generación aleatoria del la llave\n",
    "    Utilice la función de relleno de bits de la librería por medio de pad\n"
   ]
  },
  {
   "cell_type": "markdown",
   "metadata": {},
   "source": [
    "4. Preguntas a Responder\n",
    "\n",
    "    **¿Qué tamaño de clave se está usando para DES, 3DES y AES?**\n",
    "\n",
    "    para des es 64 bits, para 3DES es 56 y para AES puede ser 128, 192 o 256 bits.\n",
    "    \n",
    "\n",
    "    **¿Qué modo de operación está implementado?**\n",
    "\n",
    "    DES y 3DES: ECCB o CBC comúnmente\n",
    "\n",
    "    AES: CBC, GCM, CTR y ECB\n",
    "\n",
    "    **¿Por qué no debemos usar ECB en datos sensibles?**\n",
    "\n",
    "    Tiene patrones repetitivos asi como cifrado independiente en cada bloque. Esto hace que se puedan manipular los bloques.\n",
    "\n",
    "    **¿Cual es la diferencia entre ECB vs CBC, se puede notar directamente en una imagen?**\n",
    "\n",
    "    ECB cifra de forma independiente y CBC cifra cada bloque con el anterior.\n",
    "\n",
    "    Si se nota en una imagen, con ECB aún se puede saber la imágen mientras que con CBC no se sabe que imágen se cifró.\n",
    "\n",
    "    **¿Que es el IV?**\n",
    "\n",
    "    Es un bloque de bits que se usa para encriptar el primer bloque de texto de un mensaje.\n",
    "\n",
    "    **¿Que es el PADDING?**\n",
    "\n",
    "    es cuando se usa relleno para llenar el bloque que se está cifrando\n",
    "\n",
    "    **¿En qué situaciones se recomienda cada modo de operación?**\n",
    "\n",
    "    ECB: Datos no sensibles y entornos controlados\n",
    "\n",
    "    CBC: Datos donde la seguridad es una prioridad\n",
    "\n",
    "    **¿Cómo elegir un modo seguro en cada lenguaje de programación?**\n",
    "\n",
    "    Cada lenguaje tiene su manera para asegurar la información, el único detalle es que siempre se debe evitar el modo ECB. No hay un lenguaje seguro especificamente, solo la manera de encriptar. \n",
    "\n"
   ]
  },
  {
   "cell_type": "markdown",
   "metadata": {},
   "source": [
    "Referencias\n",
    "\n",
    "https://forum.huawei.com/enterprise/intl/es/thread/introducci%C3%B3n-a-des-3des-y-aes/667234955765366784?blogId=667234955765366784\n",
    "\n",
    "\n",
    "https://chatgpt.com/share/67ca4370-ae5c-8005-bf96-16c122fe5afb\n",
    "\n",
    "\n",
    "https://iberasync.es/el-cifrado-en-bloque-ecb-y-cbc/\n",
    "\n",
    "\n",
    "https://keepcoding.io/blog/que-es-un-vector-de-inicializacion/\n",
    "\n",
    "\n",
    "https://keepcoding.io/blog/que-es-padding-en-criptografia/\n",
    "\n",
    "https://chatgpt.com/share/67cf688d-94c4-8005-baab-f62bde6a0f5c"
   ]
  }
 ],
 "metadata": {
  "kernelspec": {
   "display_name": "Python 3",
   "language": "python",
   "name": "python3"
  },
  "language_info": {
   "codemirror_mode": {
    "name": "ipython",
    "version": 3
   },
   "file_extension": ".py",
   "mimetype": "text/x-python",
   "name": "python",
   "nbconvert_exporter": "python",
   "pygments_lexer": "ipython3",
   "version": "3.11.9"
  }
 },
 "nbformat": 4,
 "nbformat_minor": 2
}
